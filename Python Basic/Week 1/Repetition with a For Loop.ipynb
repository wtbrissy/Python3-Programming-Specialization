{
 "cells": [
  {
   "cell_type": "markdown",
   "metadata": {},
   "source": [
    "Repetition with a For Loop "
   ]
  },
  {
   "cell_type": "code",
   "execution_count": null,
   "metadata": {},
   "outputs": [],
   "source": [
    "# import turtle library and set a black background \n",
    "import turtle \n",
    "\n",
    "wn = turtle.Screen()\n",
    "wn.bgcolor(\"black\")\n",
    "\n",
    "# draw a triangle map \n",
    "\n",
    "tgmap = turtle.Turtle()\n",
    "tgmap.color(\"white\")\n",
    "tgmap.shape(\"turtle\")\n",
    "\n",
    "distance = 5\n",
    "tgmap.up()\n",
    "\n",
    "for _ in range(10):\n",
    "    tgmap.stamp()\n",
    "    tgmap.forward(distance)\n",
    "    tgmap.left(27)\n",
    "    distance = distance + 10\n",
    "    \n",
    "wn.exitonclick()"
   ]
  }
 ],
 "metadata": {
  "kernelspec": {
   "display_name": "Python 3",
   "language": "python",
   "name": "python3"
  },
  "language_info": {
   "codemirror_mode": {
    "name": "ipython",
    "version": 3
   },
   "file_extension": ".py",
   "mimetype": "text/x-python",
   "name": "python",
   "nbconvert_exporter": "python",
   "pygments_lexer": "ipython3",
   "version": "3.8.3"
  }
 },
 "nbformat": 4,
 "nbformat_minor": 4
}
