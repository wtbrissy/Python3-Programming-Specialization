{
 "cells": [
  {
   "cell_type": "markdown",
   "metadata": {},
   "source": [
    "Extend the program: \n",
    "\n",
    "1. User can entre the desired background color. \n",
    "2. User can entre the desired 'tess' color.\n",
    "3. User can entre the desired 'tess' pen width.\n"
   ]
  },
  {
   "cell_type": "code",
   "execution_count": null,
   "metadata": {
    "scrolled": true
   },
   "outputs": [],
   "source": [
    "# import turtle library\n",
    "import turtle \n",
    "\n",
    "# user can nominate the background color \n",
    "bgcolor = str(input(\"what color would you like to set for the background?\"))\n",
    "\n",
    "# set the window background color per indication \n",
    "wn = turtle.Screen()\n",
    "wn.bgcolor(bgcolor)\n",
    "\n",
    "# user can nominate the tess color \n",
    "tess = turtle.Turtle()\n",
    "tcolor = str(input(\"What color you would you like to set for the tess?\"))\n",
    "tess.color(tcolor)\n",
    "\n",
    "# user can nominate the pen width \n",
    "pensize = int(input(\"What size would you like to set for the pen size?\"))\n",
    "\n",
    "tess.pensize(pensize)\n",
    "\n",
    "# Start to draw \n",
    "tess.forward(50)\n",
    "tess.left(120)\n",
    "tess.forward(50)\n",
    "tess.forward(50)\n",
    "\n",
    "# User can exit the canvas by clicking\n",
    "wn.exitonclick()\n"
   ]
  }
 ],
 "metadata": {
  "kernelspec": {
   "display_name": "Python 3",
   "language": "python",
   "name": "python3"
  },
  "language_info": {
   "codemirror_mode": {
    "name": "ipython",
    "version": 3
   },
   "file_extension": ".py",
   "mimetype": "text/x-python",
   "name": "python",
   "nbconvert_exporter": "python",
   "pygments_lexer": "ipython3",
   "version": "3.8.3"
  }
 },
 "nbformat": 4,
 "nbformat_minor": 4
}
