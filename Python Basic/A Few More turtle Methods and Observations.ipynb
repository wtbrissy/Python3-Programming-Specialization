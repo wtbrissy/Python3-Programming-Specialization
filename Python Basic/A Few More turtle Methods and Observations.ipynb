{
 "cells": [
  {
   "cell_type": "markdown",
   "metadata": {},
   "source": [
    "Mix up Program - 1 "
   ]
  },
  {
   "cell_type": "code",
   "execution_count": null,
   "metadata": {},
   "outputs": [],
   "source": [
    "import turtle \n",
    "wn = turtle.Screen()\n",
    "jose = turtle.Turtle()\n",
    "jose.shape('turtle')\n",
    "jose.penup()\n",
    "\n",
    "for size in range(10):\n",
    "    jose.forward(50)\n",
    "    jose.stamp()\n",
    "    jose.forward(-50)\n",
    "    jose.right(36)\n",
    "    \n",
    "wn.exitonclick()"
   ]
  },
  {
   "cell_type": "markdown",
   "metadata": {},
   "source": [
    "Mix up Program - 2"
   ]
  },
  {
   "cell_type": "code",
   "execution_count": 1,
   "metadata": {},
   "outputs": [],
   "source": [
    "import turtle \n",
    "wn = turtle.Screen()\n",
    "nikea = turtle.Turtle()\n",
    "nikea.shape('turtle')\n",
    "nikea.penup()\n",
    "\n",
    "for size in range(3):\n",
    "    nikea.forward(50)\n",
    "    nikea.stamp()\n",
    "\n",
    "wn.exitonclick()"
   ]
  }
 ],
 "metadata": {
  "kernelspec": {
   "display_name": "Python 3",
   "language": "python",
   "name": "python3"
  },
  "language_info": {
   "codemirror_mode": {
    "name": "ipython",
    "version": 3
   },
   "file_extension": ".py",
   "mimetype": "text/x-python",
   "name": "python",
   "nbconvert_exporter": "python",
   "pygments_lexer": "ipython3",
   "version": "3.8.3"
  }
 },
 "nbformat": 4,
 "nbformat_minor": 4
}
