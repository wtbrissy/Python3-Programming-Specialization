{
 "cells": [
  {
   "cell_type": "markdown",
   "metadata": {},
   "source": [
    "For each word in the list verbs, add an -ing ending. Save this new list in a new list, ing."
   ]
  },
  {
   "cell_type": "code",
   "execution_count": null,
   "metadata": {},
   "outputs": [],
   "source": [
    "verbs = [\"kayak\", \"cry\", \"walk\", \"eat\", \"drink\", \"fly\"]\n",
    "\n",
    "ing = []\n",
    "for wds in range(len(verbs)):\n",
    "    ing.append(verbs[wds] + \"ing\")\n",
    "print(ing)"
   ]
  },
  {
   "cell_type": "markdown",
   "metadata": {},
   "source": [
    "Given the list of numbers, numbs, create a new list of those same numbers increased by 5. Save this new list to the variable newlist."
   ]
  },
  {
   "cell_type": "code",
   "execution_count": null,
   "metadata": {},
   "outputs": [],
   "source": [
    "numbs = [5, 10, 15, 20, 25]\n",
    "\n",
    "newlist = []\n",
    "for i in range(len(numbs)):\n",
    "    newlist.append(numbs[i] + 5)\n",
    "print(newlist)"
   ]
  },
  {
   "cell_type": "markdown",
   "metadata": {},
   "source": [
    "Challenge Now do the same as in the previous problem, but do not create a new list. Overwrite the list numbs so that each of the original numbers are increased by 5."
   ]
  },
  {
   "cell_type": "code",
   "execution_count": null,
   "metadata": {},
   "outputs": [],
   "source": [
    "numbs = [5, 10, 15, 20, 25]\n",
    "\n",
    "new_list = []\n",
    "for i in range(len(numbs)):\n",
    "    new_list.append(numbs[i] + 5) \n",
    "numbs = new_list\n",
    "print(numbs)"
   ]
  },
  {
   "cell_type": "markdown",
   "metadata": {},
   "source": [
    "For each number in lst_nums, multiply that number by 2 and append it to a new list called larger_nums."
   ]
  },
  {
   "cell_type": "code",
   "execution_count": null,
   "metadata": {},
   "outputs": [],
   "source": [
    "lst_nums = [4, 29, 5.3, 10, 2, 1817, 1967, 9, 31.32]\n",
    "\n",
    "larger_nums = [] \n",
    "\n",
    "for i in range(len(lst_nums)):\n",
    "    larger_nums.append(lst_nums[i] * 2) \n",
    "print(larger_nums)"
   ]
  }
 ],
 "metadata": {
  "kernelspec": {
   "display_name": "Python 3",
   "language": "python",
   "name": "python3"
  },
  "language_info": {
   "codemirror_mode": {
    "name": "ipython",
    "version": 3
   },
   "file_extension": ".py",
   "mimetype": "text/x-python",
   "name": "python",
   "nbconvert_exporter": "python",
   "pygments_lexer": "ipython3",
   "version": "3.8.3"
  }
 },
 "nbformat": 4,
 "nbformat_minor": 4
}
