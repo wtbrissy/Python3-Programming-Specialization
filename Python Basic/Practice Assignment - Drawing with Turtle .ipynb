{
 "cells": [
  {
   "cell_type": "markdown",
   "metadata": {},
   "source": [
    "### Chapter Assessment - Drawing with Turtle "
   ]
  },
  {
   "cell_type": "markdown",
   "metadata": {},
   "source": [
    "#### Assignment one - a regular pentagon "
   ]
  },
  {
   "cell_type": "code",
   "execution_count": null,
   "metadata": {},
   "outputs": [],
   "source": [
    "#setup the canvas and name the drawer is jack\n",
    "wn = turtle.Screen()\n",
    "jack = turtle.Turtle()\n",
    "\n",
    "#start to draw a regular pentagon \n",
    "\n",
    "jack.forward(50)\n",
    "for _ in range(4):\n",
    "    jack.right(72)\n",
    "    jack.forward(50)\n",
    "    \n",
    "#exit the canvas \n",
    "wn.exitonclick()"
   ]
  },
  {
   "cell_type": "markdown",
   "metadata": {},
   "source": [
    "#### Assignment two - a regular hexagon with random speed in range (0,10)"
   ]
  },
  {
   "cell_type": "code",
   "execution_count": null,
   "metadata": {},
   "outputs": [],
   "source": [
    "#import turtle library \n",
    "import turtle\n",
    "import random \n",
    "\n",
    "#setup canavs and name the pen is lucky\n",
    "wn = turtle.Screen()\n",
    "lucky = turtle.Turtle()\n",
    "\n",
    "#start to draw a regular hexagon with a random pen speed\n",
    "for _ in range(6):\n",
    "    draw_speed = random.randrange(0,10)    #call random.randrange function \n",
    "    lucky.speed(draw_speed)                #random draw speed \n",
    "    lucky.forward(50)\n",
    "    lucky.right(60)\n",
    "\n",
    "#exit the canvas\n",
    "wn.exitonclick()"
   ]
  }
 ],
 "metadata": {
  "kernelspec": {
   "display_name": "Python 3",
   "language": "python",
   "name": "python3"
  },
  "language_info": {
   "codemirror_mode": {
    "name": "ipython",
    "version": 3
   },
   "file_extension": ".py",
   "mimetype": "text/x-python",
   "name": "python",
   "nbconvert_exporter": "python",
   "pygments_lexer": "ipython3",
   "version": "3.8.3"
  }
 },
 "nbformat": 4,
 "nbformat_minor": 4
}
